{
 "cells": [
  {
   "cell_type": "code",
   "execution_count": 1,
   "metadata": {},
   "outputs": [],
   "source": [
    "import pandas as pd\n",
    "import numpy as np \n",
    "import random\n",
    "from sklearn import preprocessing\n",
    "from sklearn.metrics import classification_report, confusion_matrix\n",
    "from sklearn import metrics\n",
    "import matplotlib.pyplot as plt\n",
    "from sklearn.model_selection import train_test_split\n",
    "import os"
   ]
  },
  {
   "cell_type": "code",
   "execution_count": 2,
   "metadata": {},
   "outputs": [],
   "source": [
    "fpath = os.getcwd()\n",
    "file_accident = os.path.join(fpath,\"2018/accident.csv\")\n",
    "file_person   = os.path.join(fpath,\"2018/person.csv\")\n",
    "data_accident2018 = pd.read_csv(file_accident)\n",
    "data_person2018   = pd.read_csv(file_person)"
   ]
  },
  {
   "cell_type": "code",
   "execution_count": 3,
   "metadata": {},
   "outputs": [],
   "source": [
    "data_person2018 = data_person2018.drop(['COUNTY','VEH_NO','STR_VEH','FUNC_SYS','HARM_EV','SCH_BUS','IMPACT1','FIRE_EXP',\n",
    "       'STATE','BODY_TYP','TOW_VEH','SEAT_POS','REST_MIS','AIR_BAG','HOUR','SPEC_USE','EMER_USE','MINUTE','MAKE',\n",
    "       'MAK_MOD','ROLLOVER','EJECTION','EJ_PATH','EXTRICAT','DEATH_YR','DEATH_HR','DEATH_MN','DEATH_TM','LAG_HRS','PER_TYP',\n",
    "       'LAG_MINS','P_SF1','P_SF2','P_SF3','LOCATION', 'HOSPITAL','VE_FORMS', 'PER_NO', 'DAY', 'MONTH',\n",
    "       'ALC_STATUS', 'ATST_TYP','DSTATUS', 'DOA', 'DEATH_DA', 'DEATH_MO', 'WORK_INJ','RUR_URB',\n",
    "       'HISPANIC', 'RACE'], axis=1)\n",
    "data_accident2018 = data_accident2018.drop(['STATE', 'VE_TOTAL', 'VE_FORMS', 'PVH_INVL', 'PEDS',\n",
    "       'PERNOTMVIT', 'PERMVIT', 'PERSONS', 'COUNTY', 'CITY', 'DAY', 'MONTH','YEAR', 'DAY_WEEK', 'HOUR', 'MINUTE', 'NHS', 'RUR_URB', 'FUNC_SYS',\n",
    "       'RD_OWNER', 'ROUTE', 'TWAY_ID', 'TWAY_ID2', 'MILEPT', 'LATITUDE',\n",
    "       'LONGITUD', 'SP_JUR', 'HARM_EV', 'MAN_COLL', 'RELJCT1', 'RELJCT2', 'WRK_ZONE', 'REL_ROAD', 'WEATHER1', 'WEATHER2',\n",
    "       'WEATHER', 'SCH_BUS', 'RAIL', 'NOT_HOUR', 'NOT_MIN', 'ARR_HOUR',\n",
    "       'ARR_MIN', 'HOSP_HR', 'HOSP_MN', 'CF1', 'CF2', 'CF3'], axis=1)"
   ]
  },
  {
   "cell_type": "code",
   "execution_count": 4,
   "metadata": {},
   "outputs": [
    {
     "data": {
      "text/plain": [
       "Index(['ST_CASE', 'MAN_COLL', 'MOD_YEAR', 'AGE', 'SEX', 'INJ_SEV', 'REST_USE',\n",
       "       'DRINKING', 'ALC_DET', 'ALC_RES', 'DRUGS', 'DRUG_DET', 'TYP_INT',\n",
       "       'LGT_COND', 'FATALS', 'DRUNK_DR'],\n",
       "      dtype='object')"
      ]
     },
     "execution_count": 4,
     "metadata": {},
     "output_type": "execute_result"
    }
   ],
   "source": [
    "df = pd.merge(data_person2018,data_accident2018, on='ST_CASE')\n",
    "df.columns"
   ]
  },
  {
   "cell_type": "code",
   "execution_count": 5,
   "metadata": {},
   "outputs": [],
   "source": [
    "df['CAR_AGE'] = 2018 - df['MOD_YEAR']\n",
    "df['CAR_AGE'] = np.where((df['CAR_AGE'] < 0), -1, df['CAR_AGE'])\n",
    "df = df[df['CAR_AGE'] > 0] "
   ]
  },
  {
   "cell_type": "code",
   "execution_count": 6,
   "metadata": {},
   "outputs": [
    {
     "data": {
      "text/plain": [
       "Index(['MAN_COLL', 'AGE', 'SEX', 'INJ_SEV', 'REST_USE', 'ALC_RES', 'DRUGS',\n",
       "       'TYP_INT', 'LGT_COND', 'FATALS', 'DRUNK_DR', 'CAR_AGE'],\n",
       "      dtype='object')"
      ]
     },
     "execution_count": 6,
     "metadata": {},
     "output_type": "execute_result"
    }
   ],
   "source": [
    "df = df.drop(['ST_CASE','MOD_YEAR','ALC_DET','DRUG_DET','DRINKING'],axis=1)\n",
    "df.columns"
   ]
  },
  {
   "cell_type": "code",
   "execution_count": 7,
   "metadata": {},
   "outputs": [
    {
     "data": {
      "text/plain": [
       "0     29512\n",
       "6     18320\n",
       "2     10886\n",
       "1      8295\n",
       "7      1816\n",
       "8      1495\n",
       "11      289\n",
       "98      115\n",
       "9       115\n",
       "99       60\n",
       "10        1\n",
       "Name: MAN_COLL, dtype: int64"
      ]
     },
     "execution_count": 7,
     "metadata": {},
     "output_type": "execute_result"
    },
    {
     "data": {
      "image/png": "[encoded data removed]",
      "text/plain": [
       "<Figure size 432x288 with 1 Axes>"
      ]
     },
     "metadata": {
      "needs_background": "light"
     },
     "output_type": "display_data"
    }
   ],
   "source": [
    "df.MAN_COLL.value_counts().plot(kind='bar')\n",
    "df.MAN_COLL.value_counts()"
   ]
  },
  {
   "cell_type": "code",
   "execution_count": 8,
   "metadata": {},
   "outputs": [],
   "source": [
    "replacements = {'MAN_COLL': { 2 : 1 }}\n",
    "df.replace(replacements, regex=True, inplace=True)\n",
    "\n",
    "replacements1 = {'MAN_COLL': {8 : 7 }}\n",
    "df.replace(replacements1, regex=True, inplace=True)\n",
    "\n",
    "replacements2 = {'MAN_COLL': {10 : 9 }}\n",
    "df.replace(replacements2, regex=True, inplace=True)\n",
    "\n",
    "replacements3 = {'MAN_COLL': {98 : 11 }}\n",
    "df.replace(replacements3, regex=True, inplace=True)\n",
    "\n",
    "replacements4 = {'MAN_COLL': {99 : 11 }}\n",
    "df.replace(replacements4, regex=True, inplace=True)"
   ]
  },
  {
   "cell_type": "code",
   "execution_count": 9,
   "metadata": {},
   "outputs": [
    {
     "data": {
      "text/plain": [
       "0     29512\n",
       "1     19181\n",
       "6     18320\n",
       "7      3311\n",
       "11      464\n",
       "9       116\n",
       "Name: MAN_COLL, dtype: int64"
      ]
     },
     "execution_count": 9,
     "metadata": {},
     "output_type": "execute_result"
    },
    {
     "data": {
      "image/png": "[encoded data removed]",
      "text/plain": [
       "<Figure size 432x288 with 1 Axes>"
      ]
     },
     "metadata": {
      "needs_background": "light"
     },
     "output_type": "display_data"
    }
   ],
   "source": [
    "df.MAN_COLL.value_counts().plot(kind='bar')\n",
    "df.MAN_COLL.value_counts()"
   ]
  },
  {
   "cell_type": "code",
   "execution_count": 10,
   "metadata": {},
   "outputs": [],
   "source": [
    "replacements1 = {'MAN_COLL': {99 : 11 }}\n",
    "df.replace(replacements1, regex=True, inplace=True)\n",
    "\n",
    "replacements2 = {'MAN_COLL': {6 : 7 }}\n",
    "df.replace(replacements2, regex=True, inplace=True)"
   ]
  },
  {
   "cell_type": "code",
   "execution_count": 11,
   "metadata": {},
   "outputs": [
    {
     "data": {
      "text/plain": [
       "0     29512\n",
       "7     21631\n",
       "1     19181\n",
       "11      464\n",
       "9       116\n",
       "Name: MAN_COLL, dtype: int64"
      ]
     },
     "execution_count": 11,
     "metadata": {},
     "output_type": "execute_result"
    },
    {
     "data": {
      "image/png": "[encoded data removed]",
      "text/plain": [
       "<Figure size 432x288 with 1 Axes>"
      ]
     },
     "metadata": {
      "needs_background": "light"
     },
     "output_type": "display_data"
    }
   ],
   "source": [
    "df.MAN_COLL.value_counts().plot(kind='bar')\n",
    "df.MAN_COLL.value_counts()"
   ]
  },
  {
   "cell_type": "code",
   "execution_count": 12,
   "metadata": {},
   "outputs": [
    {
     "data": {
      "text/plain": [
       "4    28030\n",
       "0    19427\n",
       "2     8468\n",
       "3     7648\n",
       "1     6571\n",
       "9      499\n",
       "5      260\n",
       "6        1\n",
       "Name: INJ_SEV, dtype: int64"
      ]
     },
     "execution_count": 12,
     "metadata": {},
     "output_type": "execute_result"
    },
    {
     "data": {
      "image/png": "[encoded data removed]",
      "text/plain": [
       "<Figure size 432x288 with 1 Axes>"
      ]
     },
     "metadata": {
      "needs_background": "light"
     },
     "output_type": "display_data"
    }
   ],
   "source": [
    "df.INJ_SEV.value_counts().plot(kind='bar')\n",
    "df.INJ_SEV.value_counts()"
   ]
  },
  {
   "cell_type": "code",
   "execution_count": 13,
   "metadata": {},
   "outputs": [],
   "source": [
    "replacements_in1 = {'INJ_SEV': { 2 : 5 }}\n",
    "df.replace(replacements_in1, regex=True, inplace=True)\n",
    "\n",
    "replacements_in2 = {'INJ_SEV': { 3 : 5 }}\n",
    "df.replace(replacements_in2, regex=True, inplace=True)\n",
    "\n",
    "replacements_in3 = {'INJ_SEV': { 1 : 5 }}\n",
    "df.replace(replacements_in3, regex=True, inplace=True)"
   ]
  },
  {
   "cell_type": "code",
   "execution_count": 14,
   "metadata": {},
   "outputs": [
    {
     "data": {
      "text/plain": [
       "4    28030\n",
       "5    22947\n",
       "0    19427\n",
       "9      499\n",
       "6        1\n",
       "Name: INJ_SEV, dtype: int64"
      ]
     },
     "execution_count": 14,
     "metadata": {},
     "output_type": "execute_result"
    },
    {
     "data": {
      "image/png": "[encoded data removed]",
      "text/plain": [
       "<Figure size 432x288 with 1 Axes>"
      ]
     },
     "metadata": {
      "needs_background": "light"
     },
     "output_type": "display_data"
    }
   ],
   "source": [
    "df.INJ_SEV.value_counts().plot(kind='bar')\n",
    "df.INJ_SEV.value_counts()"
   ]
  },
  {
   "cell_type": "code",
   "execution_count": 15,
   "metadata": {},
   "outputs": [],
   "source": [
    "replacements_in3 = {'INJ_SEV': { 6 : 4 }}\n",
    "df.replace(replacements_in3, regex=True, inplace=True)"
   ]
  },
  {
   "cell_type": "code",
   "execution_count": 16,
   "metadata": {},
   "outputs": [
    {
     "data": {
      "text/plain": [
       "4    28031\n",
       "5    22947\n",
       "0    19427\n",
       "9      499\n",
       "Name: INJ_SEV, dtype: int64"
      ]
     },
     "execution_count": 16,
     "metadata": {},
     "output_type": "execute_result"
    },
    {
     "data": {
      "image/png": "[encoded data removed]",
      "text/plain": [
       "<Figure size 432x288 with 1 Axes>"
      ]
     },
     "metadata": {
      "needs_background": "light"
     },
     "output_type": "display_data"
    }
   ],
   "source": [
    "df.INJ_SEV.value_counts().plot(kind='bar')\n",
    "df.INJ_SEV.value_counts()"
   ]
  },
  {
   "cell_type": "code",
   "execution_count": 17,
   "metadata": {},
   "outputs": [],
   "source": [
    "replacements_in = {'INJ_SEV': { 4 : 1 }}\n",
    "df.replace(replacements_in, regex=True, inplace=True)\n",
    "\n",
    "replacements_in1 = {'INJ_SEV': { 5 : 2 }}\n",
    "df.replace(replacements_in1, regex=True, inplace=True)\n",
    "\n",
    "replacements_in2 = {'INJ_SEV': { 9 : 3 }}\n",
    "df.replace(replacements_in2, regex=True, inplace=True)"
   ]
  },
  {
   "cell_type": "code",
   "execution_count": 18,
   "metadata": {},
   "outputs": [
    {
     "data": {
      "text/plain": [
       "1    28031\n",
       "2    22947\n",
       "0    19427\n",
       "3      499\n",
       "Name: INJ_SEV, dtype: int64"
      ]
     },
     "execution_count": 18,
     "metadata": {},
     "output_type": "execute_result"
    },
    {
     "data": {
      "image/png": "[encoded data removed]",
      "text/plain": [
       "<Figure size 432x288 with 1 Axes>"
      ]
     },
     "metadata": {
      "needs_background": "light"
     },
     "output_type": "display_data"
    }
   ],
   "source": [
    "df.INJ_SEV.value_counts().plot(kind='bar')\n",
    "df.INJ_SEV.value_counts()"
   ]
  },
  {
   "cell_type": "code",
   "execution_count": 19,
   "metadata": {},
   "outputs": [
    {
     "data": {
      "text/plain": [
       "8    30568\n",
       "0    29872\n",
       "9     6889\n",
       "1     3575\n",
       "Name: DRUGS, dtype: int64"
      ]
     },
     "execution_count": 19,
     "metadata": {},
     "output_type": "execute_result"
    },
    {
     "data": {
      "image/png": "[encoded data removed]",
      "text/plain": [
       "<Figure size 432x288 with 1 Axes>"
      ]
     },
     "metadata": {
      "needs_background": "light"
     },
     "output_type": "display_data"
    }
   ],
   "source": [
    "df.DRUGS.value_counts().plot(kind='bar')\n",
    "df.DRUGS.value_counts()"
   ]
  },
  {
   "cell_type": "code",
   "execution_count": 20,
   "metadata": {},
   "outputs": [],
   "source": [
    "replacements_in5 = {'DRUGS': { 9 : 8 }}\n",
    "df.replace(replacements_in5, regex=True, inplace=True)"
   ]
  },
  {
   "cell_type": "code",
   "execution_count": 21,
   "metadata": {},
   "outputs": [
    {
     "data": {
      "text/plain": [
       "8    37457\n",
       "0    29872\n",
       "1     3575\n",
       "Name: DRUGS, dtype: int64"
      ]
     },
     "execution_count": 21,
     "metadata": {},
     "output_type": "execute_result"
    },
    {
     "data": {
      "image/png": "[encoded data removed]",
      "text/plain": [
       "<Figure size 432x288 with 1 Axes>"
      ]
     },
     "metadata": {
      "needs_background": "light"
     },
     "output_type": "display_data"
    }
   ],
   "source": [
    "df.DRUGS.value_counts().plot(kind='bar')\n",
    "df.DRUGS.value_counts()"
   ]
  },
  {
   "cell_type": "code",
   "execution_count": 22,
   "metadata": {},
   "outputs": [
    {
     "data": {
      "text/plain": [
       "1    37202\n",
       "2    17618\n",
       "3    12425\n",
       "5     1762\n",
       "4     1263\n",
       "6      446\n",
       "9      116\n",
       "8       41\n",
       "7       31\n",
       "Name: LGT_COND, dtype: int64"
      ]
     },
     "execution_count": 22,
     "metadata": {},
     "output_type": "execute_result"
    },
    {
     "data": {
      "image/png": "[encoded data removed]",
      "text/plain": [
       "<Figure size 432x288 with 1 Axes>"
      ]
     },
     "metadata": {
      "needs_background": "light"
     },
     "output_type": "display_data"
    }
   ],
   "source": [
    "df.LGT_COND.value_counts().plot(kind='bar')\n",
    "df.LGT_COND.value_counts()"
   ]
  },
  {
   "cell_type": "code",
   "execution_count": 23,
   "metadata": {},
   "outputs": [],
   "source": [
    "replacements_in5 = {'LGT_COND': { 7 : 6 }}\n",
    "df.replace(replacements_in5, regex=True, inplace=True)\n",
    "\n",
    "replacements_in6 = {'LGT_COND': { 8 : 6 }}\n",
    "df.replace(replacements_in6, regex=True, inplace=True)\n",
    "\n",
    "replacements_in7 = {'LGT_COND': { 9 : 6 }}\n",
    "df.replace(replacements_in7, regex=True, inplace=True)"
   ]
  },
  {
   "cell_type": "code",
   "execution_count": 24,
   "metadata": {},
   "outputs": [
    {
     "data": {
      "text/plain": [
       "1    37202\n",
       "2    17618\n",
       "3    12425\n",
       "5     1762\n",
       "4     1263\n",
       "6      634\n",
       "Name: LGT_COND, dtype: int64"
      ]
     },
     "execution_count": 24,
     "metadata": {},
     "output_type": "execute_result"
    },
    {
     "data": {
      "image/png": "[encoded data removed]",
      "text/plain": [
       "<Figure size 432x288 with 1 Axes>"
      ]
     },
     "metadata": {
      "needs_background": "light"
     },
     "output_type": "display_data"
    }
   ],
   "source": [
    "df.LGT_COND.value_counts().plot(kind='bar')\n",
    "df.LGT_COND.value_counts()"
   ]
  },
  {
   "cell_type": "code",
   "execution_count": 25,
   "metadata": {},
   "outputs": [],
   "source": [
    "Y = df['INJ_SEV']\n",
    "X = df.drop('INJ_SEV', axis=1)"
   ]
  },
  {
   "cell_type": "code",
   "execution_count": 26,
   "metadata": {},
   "outputs": [
    {
     "data": {
      "text/plain": [
       "Index(['MAN_COLL', 'AGE', 'SEX', 'REST_USE', 'ALC_RES', 'DRUGS', 'TYP_INT',\n",
       "       'LGT_COND', 'FATALS', 'DRUNK_DR', 'CAR_AGE'],\n",
       "      dtype='object')"
      ]
     },
     "execution_count": 26,
     "metadata": {},
     "output_type": "execute_result"
    }
   ],
   "source": [
    "X.columns"
   ]
  },
  {
   "cell_type": "code",
   "execution_count": 27,
   "metadata": {},
   "outputs": [],
   "source": [
    "X = X.drop('ALC_RES',axis=1)"
   ]
  },
  {
   "cell_type": "code",
   "execution_count": 28,
   "metadata": {},
   "outputs": [],
   "source": [
    "X = X.drop('FATALS',axis=1)"
   ]
  },
  {
   "cell_type": "code",
   "execution_count": 29,
   "metadata": {},
   "outputs": [],
   "source": [
    "X = X.drop('DRUNK_DR',axis=1)"
   ]
  },
  {
   "cell_type": "code",
   "execution_count": 30,
   "metadata": {},
   "outputs": [
    {
     "name": "stderr",
     "output_type": "stream",
     "text": [
      "Using TensorFlow backend.\n",
      "C:\\ProgramData\\Anaconda3\\lib\\site-packages\\tensorflow\\python\\framework\\dtypes.py:526: FutureWarning: Passing (type, 1) or '1type' as a synonym of type is deprecated; in a future version of numpy, it will be understood as (type, (1,)) / '(1,)type'.\n",
      "  _np_qint8 = np.dtype([(\"qint8\", np.int8, 1)])\n",
      "C:\\ProgramData\\Anaconda3\\lib\\site-packages\\tensorflow\\python\\framework\\dtypes.py:527: FutureWarning: Passing (type, 1) or '1type' as a synonym of type is deprecated; in a future version of numpy, it will be understood as (type, (1,)) / '(1,)type'.\n",
      "  _np_quint8 = np.dtype([(\"quint8\", np.uint8, 1)])\n",
      "C:\\ProgramData\\Anaconda3\\lib\\site-packages\\tensorflow\\python\\framework\\dtypes.py:528: FutureWarning: Passing (type, 1) or '1type' as a synonym of type is deprecated; in a future version of numpy, it will be understood as (type, (1,)) / '(1,)type'.\n",
      "  _np_qint16 = np.dtype([(\"qint16\", np.int16, 1)])\n",
      "C:\\ProgramData\\Anaconda3\\lib\\site-packages\\tensorflow\\python\\framework\\dtypes.py:529: FutureWarning: Passing (type, 1) or '1type' as a synonym of type is deprecated; in a future version of numpy, it will be understood as (type, (1,)) / '(1,)type'.\n",
      "  _np_quint16 = np.dtype([(\"quint16\", np.uint16, 1)])\n",
      "C:\\ProgramData\\Anaconda3\\lib\\site-packages\\tensorflow\\python\\framework\\dtypes.py:530: FutureWarning: Passing (type, 1) or '1type' as a synonym of type is deprecated; in a future version of numpy, it will be understood as (type, (1,)) / '(1,)type'.\n",
      "  _np_qint32 = np.dtype([(\"qint32\", np.int32, 1)])\n",
      "C:\\ProgramData\\Anaconda3\\lib\\site-packages\\tensorflow\\python\\framework\\dtypes.py:535: FutureWarning: Passing (type, 1) or '1type' as a synonym of type is deprecated; in a future version of numpy, it will be understood as (type, (1,)) / '(1,)type'.\n",
      "  np_resource = np.dtype([(\"resource\", np.ubyte, 1)])\n"
     ]
    }
   ],
   "source": [
    "import keras"
   ]
  },
  {
   "cell_type": "code",
   "execution_count": 31,
   "metadata": {},
   "outputs": [],
   "source": [
    "X_train, X_test, y_train, y_test = train_test_split(X, Y, test_size=0.3,random_state=109) # 70% training and 30% test"
   ]
  },
  {
   "cell_type": "code",
   "execution_count": 32,
   "metadata": {},
   "outputs": [],
   "source": [
    "num_classes = 4\n",
    "y_train = keras.utils.to_categorical(y_train, num_classes)\n",
    "y_test  = keras.utils.to_categorical(y_test,num_classes)"
   ]
  },
  {
   "cell_type": "code",
   "execution_count": 33,
   "metadata": {},
   "outputs": [],
   "source": [
    "X_train =  preprocessing.normalize(X_train)\n",
    "X_test  =  preprocessing.normalize(X_test)"
   ]
  },
  {
   "cell_type": "code",
   "execution_count": 63,
   "metadata": {},
   "outputs": [],
   "source": [
    "class NeuralNetwork():\n",
    "    \n",
    "    \n",
    "    def __init__(self):\n",
    "        self.input_node    = 8\n",
    "        self.Output_node   = 4\n",
    "        self.hidden_node   = 7\n",
    "        self.learning_rate = 0.24\n",
    "        self.Momentum      = 0.15        \n",
    "        \n",
    "        self.W1 = np.random.normal(0.0, pow(self.input_node, -0.5),(self.input_node,self.hidden_node))\n",
    "        self.W2 = np.random.normal(0.0, pow(self.hidden_node, -0.5), (self.hidden_node, self.Output_node))\n",
    "        \n",
    "        self.b1 = np.ones((1,self.hidden_node)) - 0.5\n",
    "        self.b2 = np.ones((1,self.Output_node)) - 0.5    \n",
    "                \n",
    "    def sse_loss(self,y_true, y_pred):\n",
    "        TS = np.sum((y_true - y_pred) **2)\n",
    "        return TS\n",
    "    \n",
    "    def sigmoid(self,s):\n",
    "        return 1/(1 + np.exp(-s))\n",
    "    \n",
    "    def sigmoid_derivative(self,s):\n",
    "        return self.sigmoid(s) * (1 - self.sigmoid(s))\n",
    "\n",
    "    def tanh_derivative(self, z):\n",
    "        return (1 - np.power(np.tanh(z), 2))     \n",
    "    \n",
    "    def forward(self,X):\n",
    "        self.z1 = np.dot(X,self.W1) + self.b1\n",
    "        self.o1 = self.sigmoid(self.z1)\n",
    "        self.z2 = np.dot(self.o1,self.W2)  + self.b2\n",
    "        o2 = self.sigmoid(self.z2)     \n",
    "        return o2\n",
    "    \n",
    "    def backpropagation(self,X,y,o):\n",
    "        self.output_delta_old = 0\n",
    "        self.output2_delta_old = 0\n",
    "        self.output_error = y - o\n",
    "        self.output_delta = self.output_error * self.sigmoid_derivative(o)\n",
    "        self.output1_error = self.output_delta.dot(self.W2.T)\n",
    "        self.output2_delta = self.output1_error * self.sigmoid_derivative(self.o1)\n",
    "        \n",
    "        self.W1 += self.Momentum * self.output_delta_old + self.learning_rate * X.T.dot(self.output2_delta)\n",
    "        self.W2 += self.Momentum * self.output2_delta_old + self.learning_rate * self.o1.T.dot(self.output_delta)\n",
    "        \n",
    "        self.output_delta_old  = X.T.dot(self.output2_delta)\n",
    "        self.output2_delta_old = self.o1.T.dot(self.output_delta)                \n",
    "        \n",
    "    def train(self,X,y):\n",
    "        o = self.forward(X)\n",
    "        self.backpropagation(X,y,o)\n",
    "    \n",
    "    def evaluate(self,X,y):\n",
    "        pred = self.forward(X)\n",
    "        loss_error = self.sse_loss(pred,y)\n",
    "        acc = np.equal(np.argmax(pred, axis=1), np.argmax(y, axis=1)).mean()\n",
    "        return loss_error,acc"
   ]
  },
  {
   "cell_type": "code",
   "execution_count": 35,
   "metadata": {},
   "outputs": [],
   "source": [
    "NN = NeuralNetwork()\n",
    "BATCH_SIZE = 100  \n",
    "loss_train = []\n",
    "acc_train  = []\n",
    "loss_tr    = 0 \n",
    "EPOCH      = 1000"
   ]
  },
  {
   "cell_type": "code",
   "execution_count": 36,
   "metadata": {},
   "outputs": [
    {
     "name": "stdout",
     "output_type": "stream",
     "text": [
      "Epoch Number: 0\n",
      "loss for the epoch 30870.352\n",
      "Accuracy: 0.49159\n",
      "\n",
      "Epoch Number: 100\n",
      "loss for the epoch 32271.195\n",
      "Accuracy: 0.44481\n",
      "\n"
     ]
    },
    {
     "name": "stderr",
     "output_type": "stream",
     "text": [
      "C:\\ProgramData\\Anaconda3\\lib\\site-packages\\ipykernel_launcher.py:22: RuntimeWarning: overflow encountered in exp\n"
     ]
    },
    {
     "name": "stdout",
     "output_type": "stream",
     "text": [
      "Epoch Number: 200\n",
      "loss for the epoch 32545.984\n",
      "Accuracy: 0.43635\n",
      "\n",
      "Epoch Number: 300\n",
      "loss for the epoch 32660.540\n",
      "Accuracy: 0.43376\n",
      "\n",
      "Epoch Number: 400\n",
      "loss for the epoch 32669.378\n",
      "Accuracy: 0.43456\n",
      "\n",
      "Epoch Number: 500\n",
      "loss for the epoch 32666.845\n",
      "Accuracy: 0.43202\n",
      "\n",
      "Epoch Number: 600\n",
      "loss for the epoch 32688.807\n",
      "Accuracy: 0.43231\n",
      "\n",
      "Epoch Number: 700\n",
      "loss for the epoch 32687.417\n",
      "Accuracy: 0.43259\n",
      "\n",
      "Epoch Number: 800\n",
      "loss for the epoch 32729.965\n",
      "Accuracy: 0.43216\n",
      "\n",
      "Epoch Number: 900\n",
      "loss for the epoch 32684.500\n",
      "Accuracy: 0.43226\n",
      "\n"
     ]
    }
   ],
   "source": [
    "for epochs in range(EPOCH):\n",
    "        \n",
    "        index = np.random.permutation(X_train.shape[0])\n",
    "        batch_count = 0\n",
    "        \n",
    "        while batch_count* BATCH_SIZE < X_train.shape[0]:\n",
    "            batch_X , batch_Y = X_train[batch_count*BATCH_SIZE:(batch_count+1)*BATCH_SIZE], y_train[batch_count*BATCH_SIZE:(batch_count+1)*BATCH_SIZE]\n",
    "            batch_count += 1\n",
    "            NN.train(batch_X,batch_Y)\n",
    "            \n",
    "        loss_tr ,accn = NN.evaluate(X_train,y_train)\n",
    "        \n",
    "        \n",
    "        \n",
    "        if epochs % 100 == 0:\n",
    "            loss_train.append(loss_tr)\n",
    "            y_pred_test = NN.forward(X_test)\n",
    "            rounded_labels=np.argmax(y_pred_test, axis=1)\n",
    "            y_test_rnd = np.argmax(y_test,axis=1)\n",
    "            print(\"Epoch Number: %d\" % epochs)\n",
    "            print(\"loss for the epoch %.3f\" % loss_tr)\n",
    "            accuracy_train = metrics.accuracy_score(y_test_rnd,rounded_labels)\n",
    "            print(\"Accuracy: %.5f\\n\" %accuracy_train )\n",
    "            acc_train.append(accuracy_train)"
   ]
  },
  {
   "cell_type": "code",
   "execution_count": 37,
   "metadata": {},
   "outputs": [
    {
     "name": "stderr",
     "output_type": "stream",
     "text": [
      "C:\\ProgramData\\Anaconda3\\lib\\site-packages\\ipykernel_launcher.py:22: RuntimeWarning: overflow encountered in exp\n"
     ]
    }
   ],
   "source": [
    "y_pred = NN.forward(X_test)"
   ]
  },
  {
   "cell_type": "code",
   "execution_count": 38,
   "metadata": {},
   "outputs": [],
   "source": [
    "rounded_labels=np.argmax(y_pred, axis=1)\n",
    "y_test_rnd = np.argmax(y_test,axis=1)"
   ]
  },
  {
   "cell_type": "code",
   "execution_count": 39,
   "metadata": {},
   "outputs": [
    {
     "name": "stdout",
     "output_type": "stream",
     "text": [
      "[[1126 3543 1054    0]\n",
      " [1152 6662  709    0]\n",
      " [ 957 4493 1415    0]\n",
      " [  17  129   15    0]]\n"
     ]
    }
   ],
   "source": [
    "print(confusion_matrix(y_test_rnd,rounded_labels))"
   ]
  },
  {
   "cell_type": "code",
   "execution_count": 40,
   "metadata": {},
   "outputs": [
    {
     "name": "stdout",
     "output_type": "stream",
     "text": [
      "              precision    recall  f1-score   support\n",
      "\n",
      "           0       0.35      0.20      0.25      5723\n",
      "           1       0.45      0.78      0.57      8523\n",
      "           2       0.44      0.21      0.28      6865\n",
      "           3       0.00      0.00      0.00       161\n",
      "\n",
      "   micro avg       0.43      0.43      0.43     21272\n",
      "   macro avg       0.31      0.30      0.28     21272\n",
      "weighted avg       0.42      0.43      0.39     21272\n",
      "\n"
     ]
    },
    {
     "name": "stderr",
     "output_type": "stream",
     "text": [
      "C:\\ProgramData\\Anaconda3\\lib\\site-packages\\sklearn\\metrics\\classification.py:1143: UndefinedMetricWarning: Precision and F-score are ill-defined and being set to 0.0 in labels with no predicted samples.\n",
      "  'precision', 'predicted', average, warn_for)\n"
     ]
    }
   ],
   "source": [
    "print(classification_report(y_test_rnd,rounded_labels))"
   ]
  },
  {
   "cell_type": "code",
   "execution_count": 41,
   "metadata": {},
   "outputs": [
    {
     "name": "stdout",
     "output_type": "stream",
     "text": [
      "Accuracy: 0.43263444904099285\n"
     ]
    }
   ],
   "source": [
    "print(\"Accuracy:\", metrics.accuracy_score(y_test_rnd,rounded_labels))"
   ]
  },
  {
   "cell_type": "code",
   "execution_count": 42,
   "metadata": {},
   "outputs": [
    {
     "data": {
      "image/png": "[encoded data removed]",
      "text/plain": [
       "<Figure size 864x720 with 1 Axes>"
      ]
     },
     "metadata": {
      "needs_background": "light"
     },
     "output_type": "display_data"
    }
   ],
   "source": [
    "plt.figure(figsize=(12,10))\n",
    "plt.plot(loss_train, label='Train')\n",
    "plt.legend()\n",
    "plt.xlabel('Epochs')\n",
    "plt.title('Loss')\n",
    "plt.show()"
   ]
  },
  {
   "cell_type": "code",
   "execution_count": 43,
   "metadata": {},
   "outputs": [
    {
     "data": {
      "image/png": "[encoded data removed]",
      "text/plain": [
       "<Figure size 864x720 with 1 Axes>"
      ]
     },
     "metadata": {
      "needs_background": "light"
     },
     "output_type": "display_data"
    }
   ],
   "source": [
    "plt.figure(figsize=(12,10))\n",
    "plt.plot(acc_train, label='Train')\n",
    "plt.legend()\n",
    "plt.xlabel('Epochs')\n",
    "plt.title('Accuracy')\n",
    "plt.show()"
   ]
  },
  {
   "cell_type": "code",
   "execution_count": 44,
   "metadata": {},
   "outputs": [],
   "source": [
    "df = df[df['INJ_SEV'] < 3]"
   ]
  },
  {
   "cell_type": "code",
   "execution_count": 45,
   "metadata": {},
   "outputs": [
    {
     "data": {
      "text/plain": [
       "1    28031\n",
       "2    22947\n",
       "0    19427\n",
       "Name: INJ_SEV, dtype: int64"
      ]
     },
     "execution_count": 45,
     "metadata": {},
     "output_type": "execute_result"
    },
    {
     "data": {
      "image/png": "[encoded data removed]",
      "text/plain": [
       "<Figure size 432x288 with 1 Axes>"
      ]
     },
     "metadata": {
      "needs_background": "light"
     },
     "output_type": "display_data"
    }
   ],
   "source": [
    "df.INJ_SEV.value_counts().plot(kind='bar')\n",
    "df.INJ_SEV.value_counts()"
   ]
  },
  {
   "cell_type": "code",
   "execution_count": 46,
   "metadata": {},
   "outputs": [],
   "source": [
    "replacements_in3 = {'INJ_SEV': { 2 : 0 }}\n",
    "df.replace(replacements_in3, regex=True, inplace=True)"
   ]
  },
  {
   "cell_type": "code",
   "execution_count": 47,
   "metadata": {},
   "outputs": [
    {
     "data": {
      "text/plain": [
       "0    42374\n",
       "1    28031\n",
       "Name: INJ_SEV, dtype: int64"
      ]
     },
     "execution_count": 47,
     "metadata": {},
     "output_type": "execute_result"
    },
    {
     "data": {
      "image/png": "[encoded data removed]",
      "text/plain": [
       "<Figure size 432x288 with 1 Axes>"
      ]
     },
     "metadata": {
      "needs_background": "light"
     },
     "output_type": "display_data"
    }
   ],
   "source": [
    "df.INJ_SEV.value_counts().plot(kind='bar')\n",
    "df.INJ_SEV.value_counts()"
   ]
  },
  {
   "cell_type": "code",
   "execution_count": 48,
   "metadata": {},
   "outputs": [],
   "source": [
    "Y = df['INJ_SEV']\n",
    "X = df.drop('INJ_SEV', axis=1)"
   ]
  },
  {
   "cell_type": "code",
   "execution_count": 49,
   "metadata": {},
   "outputs": [],
   "source": [
    "X = X.drop('DRUNK_DR',axis=1)"
   ]
  },
  {
   "cell_type": "code",
   "execution_count": 50,
   "metadata": {},
   "outputs": [],
   "source": [
    "X = X.drop('FATALS',axis=1)"
   ]
  },
  {
   "cell_type": "code",
   "execution_count": 51,
   "metadata": {},
   "outputs": [],
   "source": [
    "X = X.drop('ALC_RES',axis=1)"
   ]
  },
  {
   "cell_type": "code",
   "execution_count": 52,
   "metadata": {},
   "outputs": [],
   "source": [
    "X_train, X_test, y_train, y_test = train_test_split(X, Y, test_size=0.3,random_state=109) # 70% training and 30% test"
   ]
  },
  {
   "cell_type": "code",
   "execution_count": 53,
   "metadata": {},
   "outputs": [],
   "source": [
    "num_classes = 4\n",
    "y_train = keras.utils.to_categorical(y_train, num_classes)\n",
    "y_test  = keras.utils.to_categorical(y_test,num_classes)"
   ]
  },
  {
   "cell_type": "code",
   "execution_count": 54,
   "metadata": {},
   "outputs": [],
   "source": [
    "X_train =  preprocessing.normalize(X_train)\n",
    "X_test  =  preprocessing.normalize(X_test)"
   ]
  },
  {
   "cell_type": "code",
   "execution_count": 64,
   "metadata": {},
   "outputs": [
    {
     "name": "stderr",
     "output_type": "stream",
     "text": [
      "C:\\ProgramData\\Anaconda3\\lib\\site-packages\\ipykernel_launcher.py:22: RuntimeWarning: overflow encountered in exp\n"
     ]
    },
    {
     "name": "stdout",
     "output_type": "stream",
     "text": [
      "Epoch Number: 0\n",
      "loss for the epoch 22032.543\n",
      "Accuracy: 0.60392\n",
      "\n",
      "Epoch Number: 100\n",
      "loss for the epoch 22024.436\n",
      "Accuracy: 0.60392\n",
      "\n",
      "Epoch Number: 200\n",
      "loss for the epoch 22019.480\n",
      "Accuracy: 0.60392\n",
      "\n",
      "Epoch Number: 300\n",
      "loss for the epoch 22015.987\n",
      "Accuracy: 0.60392\n",
      "\n",
      "Epoch Number: 400\n",
      "loss for the epoch 22013.363\n",
      "Accuracy: 0.60392\n",
      "\n",
      "Epoch Number: 500\n",
      "loss for the epoch 22010.959\n",
      "Accuracy: 0.60392\n",
      "\n",
      "Epoch Number: 600\n",
      "loss for the epoch 22007.237\n",
      "Accuracy: 0.60392\n",
      "\n",
      "Epoch Number: 700\n",
      "loss for the epoch 22005.242\n",
      "Accuracy: 0.60392\n",
      "\n",
      "Epoch Number: 800\n",
      "loss for the epoch 22002.056\n",
      "Accuracy: 0.60392\n",
      "\n",
      "Epoch Number: 900\n",
      "loss for the epoch 22001.644\n",
      "Accuracy: 0.60392\n",
      "\n"
     ]
    }
   ],
   "source": [
    "for epochs in range(EPOCH):\n",
    "        \n",
    "        index = np.random.permutation(X_train.shape[0])\n",
    "        batch_count = 0\n",
    "        \n",
    "        while batch_count* BATCH_SIZE < X_train.shape[0]:\n",
    "            batch_X , batch_Y = X_train[batch_count*BATCH_SIZE:(batch_count+1)*BATCH_SIZE], y_train[batch_count*BATCH_SIZE:(batch_count+1)*BATCH_SIZE]\n",
    "            batch_count += 1\n",
    "            NN.train(batch_X,batch_Y)\n",
    "            \n",
    "        loss_tr ,accn = NN.evaluate(X_train,y_train)\n",
    "        \n",
    "        \n",
    "        \n",
    "        if epochs % 100 == 0:\n",
    "            loss_train.append(loss_tr)\n",
    "            y_pred_test = NN.forward(X_test)\n",
    "            rounded_labels=np.argmax(y_pred_test, axis=1)\n",
    "            y_test_rnd = np.argmax(y_test,axis=1)\n",
    "            print(\"Epoch Number: %d\" % epochs)\n",
    "            print(\"loss for the epoch %.3f\" % loss_tr)\n",
    "            accuracy_train = metrics.accuracy_score(y_test_rnd,rounded_labels)\n",
    "            print(\"Accuracy: %.5f\\n\" %accuracy_train )\n",
    "            acc_train.append(accuracy_train)"
   ]
  },
  {
   "cell_type": "code",
   "execution_count": 65,
   "metadata": {},
   "outputs": [
    {
     "name": "stderr",
     "output_type": "stream",
     "text": [
      "C:\\ProgramData\\Anaconda3\\lib\\site-packages\\ipykernel_launcher.py:22: RuntimeWarning: overflow encountered in exp\n"
     ]
    }
   ],
   "source": [
    "y_pred = NN.forward(X_test)"
   ]
  },
  {
   "cell_type": "code",
   "execution_count": 66,
   "metadata": {},
   "outputs": [],
   "source": [
    "rounded_labels=np.argmax(y_pred, axis=1)\n",
    "y_test_rnd = np.argmax(y_test,axis=1)"
   ]
  },
  {
   "cell_type": "code",
   "execution_count": 67,
   "metadata": {},
   "outputs": [
    {
     "name": "stdout",
     "output_type": "stream",
     "text": [
      "              precision    recall  f1-score   support\n",
      "\n",
      "           0       0.60      1.00      0.75     12756\n",
      "           1       0.00      0.00      0.00      8366\n",
      "\n",
      "   micro avg       0.60      0.60      0.60     21122\n",
      "   macro avg       0.30      0.50      0.38     21122\n",
      "weighted avg       0.36      0.60      0.45     21122\n",
      "\n"
     ]
    }
   ],
   "source": [
    "print(classification_report(y_test_rnd,rounded_labels))"
   ]
  },
  {
   "cell_type": "code",
   "execution_count": 68,
   "metadata": {},
   "outputs": [
    {
     "name": "stdout",
     "output_type": "stream",
     "text": [
      "Accuracy: 0.6039200833254427\n"
     ]
    }
   ],
   "source": [
    "print(\"Accuracy:\", metrics.accuracy_score(y_test_rnd,rounded_labels))"
   ]
  },
  {
   "cell_type": "code",
   "execution_count": 69,
   "metadata": {},
   "outputs": [
    {
     "data": {
      "image/png": "[encoded data removed]",
      "text/plain": [
       "<Figure size 864x720 with 1 Axes>"
      ]
     },
     "metadata": {
      "needs_background": "light"
     },
     "output_type": "display_data"
    }
   ],
   "source": [
    "plt.figure(figsize=(12,10))\n",
    "plt.plot(loss_train, label='Train')\n",
    "plt.legend()\n",
    "plt.xlabel('Epochs')\n",
    "plt.title('Loss')\n",
    "plt.show()"
   ]
  },
  {
   "cell_type": "code",
   "execution_count": 70,
   "metadata": {},
   "outputs": [
    {
     "data": {
      "image/png": "[encoded data removed]",
      "text/plain": [
       "<Figure size 864x720 with 1 Axes>"
      ]
     },
     "metadata": {
      "needs_background": "light"
     },
     "output_type": "display_data"
    }
   ],
   "source": [
    "plt.figure(figsize=(12,10))\n",
    "plt.plot(acc_train, label='Train')\n",
    "plt.legend()\n",
    "plt.xlabel('Epochs')\n",
    "plt.title('Accuracy')\n",
    "plt.show()"
   ]
  },
  {
   "cell_type": "code",
   "execution_count": null,
   "metadata": {},
   "outputs": [],
   "source": []
  }
 ],
 "metadata": {
  "kernelspec": {
   "display_name": "Python 3",
   "language": "python",
   "name": "python3"
  },
  "language_info": {
   "codemirror_mode": {
    "name": "ipython",
    "version": 3
   },
   "file_extension": ".py",
   "mimetype": "text/x-python",
   "name": "python",
   "nbconvert_exporter": "python",
   "pygments_lexer": "ipython3",
   "version": "3.7.1"
  }
 },
 "nbformat": 4,
 "nbformat_minor": 2
}
